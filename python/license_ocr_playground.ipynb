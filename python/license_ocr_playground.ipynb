{
 "cells": [
  {
   "cell_type": "code",
   "execution_count": null,
   "metadata": {},
   "outputs": [],
   "source": [
    "import cv2\n",
    "import numpy as np\n",
    "from matplotlib import pyplot as plt\n",
    "import easyocr\n",
    "import re\n",
    "import subprocess, os\n",
    "from src.util import TEMP_DIR, preprocess, read_license_plate, draw_result, real_esrgan\n",
    "from pathlib import Path\n",
    "\n",
    "reader = easyocr.Reader(['en'])"
   ]
  },
  {
   "cell_type": "markdown",
   "metadata": {},
   "source": [
    "Open cropped image of license plate"
   ]
  },
  {
   "cell_type": "code",
   "execution_count": null,
   "metadata": {},
   "outputs": [],
   "source": [
    "input_image_path = f'{TEMP_DIR}/2023-12-12/id_1_20231212-173524_plate.png'\n",
    "plate = cv2.imread(input_image_path)\n",
    "plate = cv2.cvtColor(plate, cv2.COLOR_BGR2RGB) \n",
    "plt.imshow(plate)"
   ]
  },
  {
   "cell_type": "code",
   "execution_count": null,
   "metadata": {},
   "outputs": [],
   "source": [
    "hd_plate_path = real_esrgan(input_image_path)"
   ]
  },
  {
   "cell_type": "code",
   "execution_count": null,
   "metadata": {},
   "outputs": [],
   "source": [
    "hd_plate = cv2.imread(hd_plate_path)\n",
    "hd_plate = cv2.cvtColor(hd_plate, cv2.COLOR_BGR2RGB) \n",
    "plt.imshow(hd_plate)"
   ]
  },
  {
   "cell_type": "code",
   "execution_count": null,
   "metadata": {},
   "outputs": [],
   "source": [
    "img_lp = cv2.resize(hd_plate, (320,160))\n",
    "img_gray_lp = cv2.cvtColor(img_lp, cv2.COLOR_BGR2GRAY)\n",
    "_, img_binary_lp = cv2.threshold(img_gray_lp, 150, 255, cv2.THRESH_BINARY_INV)\n",
    "plt.imshow(img_binary_lp, cmap='gray')"
   ]
  },
  {
   "cell_type": "code",
   "execution_count": null,
   "metadata": {},
   "outputs": [],
   "source": [
    "plt.imshow(img_gray_lp, cmap='gray')"
   ]
  },
  {
   "cell_type": "code",
   "execution_count": null,
   "metadata": {},
   "outputs": [],
   "source": [
    "reader.readtext(img_gray_lp)"
   ]
  }
 ],
 "metadata": {
  "kernelspec": {
   "display_name": "stopsign",
   "language": "python",
   "name": "python3"
  },
  "language_info": {
   "codemirror_mode": {
    "name": "ipython",
    "version": 3
   },
   "file_extension": ".py",
   "mimetype": "text/x-python",
   "name": "python",
   "nbconvert_exporter": "python",
   "pygments_lexer": "ipython3",
   "version": "3.11.5"
  }
 },
 "nbformat": 4,
 "nbformat_minor": 2
}
